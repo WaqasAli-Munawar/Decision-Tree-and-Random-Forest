{
 "cells": [
  {
   "cell_type": "markdown",
   "metadata": {},
   "source": [
    "We learned about decision trees, and looked at ways to reduce overfitting. The most powerful tool for reducing decision tree overfitting is called the random forest algorithm. In this project, we'll learn how to construct and apply random forests.\n",
    "\n",
    "We'll continue using the same 1994 census data set on U.S. income. It contains information on marital status, age, type of work, and more. The target column, high_income, records salaries less than or equal to 50k a year (0), and more than 50k a year (1).\n",
    "\n",
    "We can download the data from [the University of California, Irvine's website](http://archive.ics.uci.edu/ml/datasets/Adult)."
   ]
  },
  {
   "cell_type": "markdown",
   "metadata": {},
   "source": [
    "A random forest is a kind of ensemble model. [Ensembles](https://en.wikipedia.org/wiki/Ensemble_learning) combine the predictions of multiple models to create a more accurate final prediction. We'll make a simple ensemble to see how they work.\n",
    "\n",
    "Let's create two decision trees with slightly different parameters:\n",
    "\n",
    "* One with min_samples_leaf set to 2\n",
    "* One with max_depth set to 5\n",
    "\n",
    "Then, we'll check their accuracies separately."
   ]
  },
  {
   "cell_type": "code",
   "execution_count": 1,
   "metadata": {},
   "outputs": [],
   "source": [
    "import pandas as pd\n",
    "import numpy as np"
   ]
  },
  {
   "cell_type": "code",
   "execution_count": 2,
   "metadata": {},
   "outputs": [],
   "source": [
    "income = pd.read_csv(\"income.csv\")"
   ]
  },
  {
   "cell_type": "code",
   "execution_count": 6,
   "metadata": {},
   "outputs": [],
   "source": [
    "cols = [\"workclass\",\"education\", \"marital_status\", \"occupation\", \"relationship\", \"race\", \"sex\", \"native_country\", \"high_income\"]\n",
    "\n",
    "for col in cols:\n",
    "    income[col] = pd.Categorical(income[col]).codes"
   ]
  },
  {
   "cell_type": "code",
   "execution_count": 7,
   "metadata": {},
   "outputs": [],
   "source": [
    "np.random.seed(1)\n",
    "\n",
    "income = income.reindex(np.random.permutation(income.index))"
   ]
  },
  {
   "cell_type": "code",
   "execution_count": 8,
   "metadata": {},
   "outputs": [],
   "source": [
    "import math\n",
    "\n",
    "# we'll make 80% of our rows training data, and the rest testing data.\n",
    "\n",
    "train_max_row = math.floor(income.shape[0]*.8)\n",
    "train = income[:train_max_row]\n",
    "test = income[train_max_row:]"
   ]
  },
  {
   "cell_type": "code",
   "execution_count": 9,
   "metadata": {},
   "outputs": [],
   "source": [
    "from sklearn.tree import DecisionTreeClassifier \n",
    "from sklearn.metrics import roc_auc_score\n",
    "\n",
    "clf1 = DecisionTreeClassifier(min_samples_leaf = 2, random_state = 1)\n",
    "clf2 = DecisionTreeClassifier(max_depth = 5, random_state = 1)"
   ]
  },
  {
   "cell_type": "code",
   "execution_count": 10,
   "metadata": {},
   "outputs": [
    {
     "name": "stdout",
     "output_type": "stream",
     "text": [
      "0.6878964226062301\n",
      "0.6759853906508785\n"
     ]
    }
   ],
   "source": [
    "columns = [\"age\", \"workclass\", \"education_num\", \"marital_status\", \"occupation\", \"relationship\", \"race\", \"sex\", \n",
    "           \"hours_per_week\", \"native_country\"]\n",
    "\n",
    "clf1.fit(train[columns], train[\"high_income\"])\n",
    "\n",
    "predictions = clf1.predict(test[columns])\n",
    "print(roc_auc_score(test[\"high_income\"],predictions))\n",
    "\n",
    "clf2 = DecisionTreeClassifier(random_state=1, max_depth=5)\n",
    "clf2.fit(train[columns], train[\"high_income\"])\n",
    "predictions = clf2.predict(test[columns])\n",
    "print(roc_auc_score(test[\"high_income\"], predictions))"
   ]
  },
  {
   "cell_type": "raw",
   "metadata": {},
   "source": [
    "When we have multiple classifiers making predictions, we can treat each set of predictions as a column in a matrix. Here's an example where we have Decision Tree 1 (DT1), Decision Tree 2 (DT2), and Decision Tree 3 (DT3):\n",
    "\n",
    "DT1     DT2    DT3\n",
    "0       1      0\n",
    "1       1      1\n",
    "0       0      1\n",
    "1       0      0"
   ]
  },
  {
   "cell_type": "raw",
   "metadata": {},
   "source": [
    "Whenever we add more models to our ensemble, we just add more columns to the combined predictions. Ultimately, we don't want this matrix, though -- we want one prediction per row in the training data. To accomplish this, we'll need to create rules to convert each row of our matrix of predictions into a single number.\n",
    "\n",
    "We want to create a Final Prediction vector that looks like this:\n",
    "\n",
    "DT1     DT2    DT3    Final Prediction\n",
    "0       1      0      0\n",
    "1       1      1      1\n",
    "0       0      1      0\n",
    "1       0      0      0"
   ]
  },
  {
   "cell_type": "markdown",
   "metadata": {},
   "source": [
    "There are many ways to get from the output of multiple models to a final vector of predictions. One method is [majority voting](http://www.scholarpedia.org/article/Ensemble_learning#Voting_based_methods), in which each classifier gets a \"vote,\" and the most commonly voted value for each row \"wins.\" This only works if there are more than two classifiers (and ideally an odd number, so we don't have to write a rule to break ties). Majority voting is what we applied in the example above."
   ]
  },
  {
   "cell_type": "raw",
   "metadata": {},
   "source": [
    "Because we only had two classifiers clf1 and clf2, we'll have to use a different method to combine predictions. We'll take the mean of all of the items in a row. Right now, we're using the predict() method, which returns either 0 or 1. predict() returns something like this:\n",
    "\n",
    "0\n",
    "1\n",
    "0\n",
    "1"
   ]
  },
  {
   "cell_type": "raw",
   "metadata": {},
   "source": [
    "We can use the RandomForestClassifier.predict_proba() method instead, which will predict a probability from 0 to 1 that a given class is the right one for a row. Because 0 and 1 are our two classes, we'll get a matrix containing the number of rows in the income dataframe, and two columns. predict_proba() will return a result that looks like this:\n",
    "\n",
    " 0     1\n",
    "\n",
    ".7    .3\n",
    ".2    .8\n",
    ".1    .9"
   ]
  },
  {
   "cell_type": "markdown",
   "metadata": {},
   "source": [
    "Each row will correspond to a prediction. The first column is the probability that the prediction is a 0, and the second column is the probability that the prediction is a 1. Each row adds up to 1.\n",
    "\n",
    "If we just take the second column, we get the average value that the classifier would predict for that row. If there's a .9 probability that the correct classification is 1, we can use the .9 as the value the classifier is predicting. This will give us a continuous output in a single vector, instead of just 0 or 1.\n",
    "\n",
    "Then we can add together all of the vectors we get through this method, and divide the sum by the total number of vectors to get the mean prediction made across the entire ensemble for a particular row. Finally, we round off to get a 0 or 1 prediction for the row.\n",
    "\n",
    "If we use the predict_proba() method on both classifiers to generate probabilities, take the mean for each row, and then round the results, we'll get ensemble predictions."
   ]
  },
  {
   "cell_type": "code",
   "execution_count": 17,
   "metadata": {},
   "outputs": [],
   "source": [
    "predictions1 = clf1.predict_proba(test[columns])[:,1]\n",
    "predictions2 = clf2.predict_proba(test[columns])[:,1]"
   ]
  },
  {
   "cell_type": "code",
   "execution_count": 18,
   "metadata": {},
   "outputs": [
    {
     "name": "stdout",
     "output_type": "stream",
     "text": [
      "0.7150846804038882\n"
     ]
    }
   ],
   "source": [
    "combined = (predictions1 + predictions2)/2\n",
    "rounded = np.round(combined)\n",
    "\n",
    "print(roc_auc_score(test[\"high_income\"], rounded))"
   ]
  },
  {
   "attachments": {
    "image.png": {
     "image/png": "[encoded data removed]"
    }
   },
   "cell_type": "markdown",
   "metadata": {},
   "source": [
    "As we can see the combined predictions of the two trees had a higher AUC than that of either tree on its own:\n",
    "\n",
    "![image.png](attachment:image.png)"
   ]
  },
  {
   "cell_type": "markdown",
   "metadata": {},
   "source": [
    "To intuitively understand why this makes sense, think about two people with the same level of talent. One learned programming in college, while the other learned it on her own.\n",
    "\n",
    "If we give both of them the same project, they'll approach it in slightly different ways, due to their different experiences. They may both produce code that achieves the same result, but one may run faster in certain areas. The other may have a better interface. Even though both of them have about the same level of talent, their solutions are stronger in different areas because they approached the problem differently.\n",
    "\n",
    "If we combine the best parts of both of their projects, we'll end up with a stronger combined project.\n",
    "\n",
    "Ensembling is exactly the same. The models are approaching the same problem in slightly different ways, and building different trees because we used different parameters for each one. Each tree makes different predictions in different areas. Even though both trees have about the same accuracy, when we combine them, the result is stronger because it leverages the strengths of both approaches.\n",
    "\n",
    "The more \"diverse\" or dissimilar the models we use to construct an ensemble are, the stronger their combined predictions will be (assuming that all of the models have about the same accuracy). Ensembling a decision tree and a logistic regression model, for example, will result in stronger predictions than ensembling two decision trees with similar parameters. That's because those two models use very different approaches to arrive at their answers.\n",
    "\n",
    "On the other hand, if the models we ensemble are very similar in how they make predictions, ensembling will result in a negligible boost.\n",
    "\n",
    "Ensembling models with very different accuracies generally won't improve overall accuracy. Ensembling a model with a .75 AUC and a model with a .85 AUC on a test set will usually result in an AUC somewhere in between the two original values. "
   ]
  },
  {
   "cell_type": "markdown",
   "metadata": {},
   "source": [
    "A random forest is an ensemble of decision trees. If we don't make any modifications to the trees, each tree will be exactly the same, so we'll get no boost when we ensemble them. In order to make ensembling effective, we have to introduce variation into each individual decision tree model.\n",
    "\n",
    "If we introduce variation, each tree will be be constructed slightly differently, and will therefore make different predictions. This variation is what puts the \"random\" in \"random forest.\"\n",
    "\n",
    "There are two main ways to introduce variation in a random forest -- bagging and random feature subsets. We'll dive into bagging first.\n",
    "\n",
    "# 1.Bagging\n",
    "\n",
    "In a random forest, we don't train each tree on the entire data set. We train it on a random sample of the data, or a \"bag,\" instead. We perform this sampling with replacement, which means that after we select a row from the data we're sampling, we put the row back in the data so it can be picked again. Some rows from the original data may appear in the \"bag\" multiple times."
   ]
  },
  {
   "cell_type": "code",
   "execution_count": 54,
   "metadata": {},
   "outputs": [
    {
     "name": "stdout",
     "output_type": "stream",
     "text": [
      "0.7329963297474371\n"
     ]
    }
   ],
   "source": [
    "# We'll build 10 trees\n",
    "tree_count = 10\n",
    "\n",
    "# Each \"bag\" will have 60% of the number of original rows\n",
    "bag_proportion = .6\n",
    "\n",
    "predictions = []\n",
    "for i in range(tree_count):\n",
    "    # We select 60% of the rows from train, sampling with replacement\n",
    "    bag = train.sample(frac = bag_proportion, random_state= i, replace= True)\n",
    "    clf = DecisionTreeClassifier(random_state=1, min_samples_leaf = 2)\n",
    "    clf.fit(bag[columns], bag[\"high_income\"])\n",
    "    predictions.append(clf.predict_proba(test[columns])[:,1])\n",
    "\n",
    "combined = np.sum(predictions, axis = 0)/10\n",
    "rounded = np.round(combined)\n",
    "\n",
    "print(roc_auc_score(test[\"high_income\"], rounded))"
   ]
  },
  {
   "attachments": {
    "image.png": {
     "image/png": "[encoded data removed]"
    }
   },
   "cell_type": "markdown",
   "metadata": {},
   "source": [
    "Using the bagging, we gained some accuracy over a single decision tree. To be exact, we achieved an AUC score of around .733 with bagging, which is an improvement over the AUC score of .688 we got without bagging:\n",
    "\n",
    "![image.png](attachment:image.png)"
   ]
  },
  {
   "cell_type": "markdown",
   "metadata": {},
   "source": [
    "# 2.Random feature subsets\n",
    "\n",
    "* First we pick the maximum number of features we want to evaluate each time we split the tree.\n",
    "    * This has to be less than the total number of columns in the data.\n",
    "* Every time we split, we pick a random sample of features from the data.\n",
    "* Then we compute the information gain for each feature in our random sample, and pick the one with the highest information gain to split on.\n",
    "\n",
    "To understand how splits work, let's look at information gain or entropy. Entropy is the measure of \"disorder\" in the data set. If a dataset has all the same labels, they'll have low entropy. If all the labels are different, they'll have high entropy. Splits that give us more information about the data, will ideally minimize entropy. In other words, the tree will ideally split the labels into distinct groups with as little mixture possible. This'll allow the splits to give our tree more predictive power.\n",
    "\n",
    "We're repeating the same process to select the optimal split that minimizes entropy for a node. However, we'll only evaluate a constrained set of features that we select randomly. This introduces variation into the trees, and makes for more powerful ensembles."
   ]
  },
  {
   "cell_type": "code",
   "execution_count": 55,
   "metadata": {},
   "outputs": [],
   "source": [
    "def calc_entropy(column):\n",
    "    import numpy as np\n",
    "    import math\n",
    "    \n",
    "    counts = np.bincount(column)\n",
    "   \n",
    "    probabilities = counts/len(column)\n",
    "\n",
    "    entropy =  0\n",
    "    for prob in probabilities:\n",
    "        if prob > 0:\n",
    "            entropy += prob*math.log(prob,2)\n",
    "    return - entropy"
   ]
  },
  {
   "cell_type": "code",
   "execution_count": 56,
   "metadata": {},
   "outputs": [],
   "source": [
    "def calc_information_gain(data, col, target_name):\n",
    "   \n",
    "    original_entropy = calc_entropy(data[target_name])\n",
    "    \n",
    "    column = data[col]\n",
    "    median = column.median()\n",
    "    \n",
    "    left_split = data[column <= median]\n",
    "    right_split = data[column > median]\n",
    "   \n",
    "    to_subtract = 0\n",
    "    for subset in [left_split, right_split]:\n",
    "        prob = (subset.shape[0] / data.shape[0]) \n",
    "        to_subtract += prob * calc_entropy(subset[target_name])\n",
    "    \n",
    "    return original_entropy - to_subtract"
   ]
  },
  {
   "cell_type": "code",
   "execution_count": 78,
   "metadata": {},
   "outputs": [],
   "source": [
    "def find_best_column(data, target_name, columns):\n",
    "    information_gains = []\n",
    "    # Select two columns randomly for random forest\n",
    "    cols = np.random.choice(columns,2)\n",
    "    \n",
    "    for col in cols:\n",
    "        information_gain = calc_information_gain(data, col,\"high_income\")\n",
    "        information_gains.append(information_gain)\n",
    "    highest_gain_index = information_gains.index(max(information_gains))\n",
    "    highest_gain = cols[highest_gain_index]\n",
    "    \n",
    "    return highest_gain"
   ]
  },
  {
   "cell_type": "code",
   "execution_count": 79,
   "metadata": {},
   "outputs": [],
   "source": [
    "tree = {}\n",
    "nodes = []\n",
    "\n",
    "def id3(data, target, columns, tree):\n",
    "    unique_targets = pd.unique(data[target])\n",
    "    nodes.append(len(nodes) + 1)\n",
    "    tree[\"number\"] = nodes[-1]\n",
    "\n",
    "    if len(unique_targets) == 1:\n",
    "        if 0 in unique_targets:\n",
    "            tree[\"label\"] = 0\n",
    "        elif 1 in unique_targets:\n",
    "            tree[\"label\"] = 1\n",
    "        return\n",
    "    \n",
    "    best_column = find_best_column(data, target, columns)\n",
    "    column_median = data[best_column].median()\n",
    "    \n",
    "    tree[\"column\"] = best_column\n",
    "    tree[\"median\"] = column_median\n",
    "    \n",
    "    left_split = data[data[best_column] <= column_median]\n",
    "    right_split = data[data[best_column] > column_median]\n",
    "    split_dict = [[\"left\", left_split], [\"right\", right_split]]\n",
    "    \n",
    "    for name, split in split_dict:\n",
    "        tree[name] = {}\n",
    "        id3(split, target, columns, tree[name])"
   ]
  },
  {
   "cell_type": "code",
   "execution_count": 80,
   "metadata": {},
   "outputs": [],
   "source": [
    "data = pd.DataFrame([\n",
    "    [0,4,20,0],\n",
    "    [0,4,60,2],\n",
    "    [0,5,40,1],\n",
    "    [1,4,25,1],\n",
    "    [1,5,35,2],\n",
    "    [1,5,55,1]\n",
    "    ])\n",
    "data.columns = [\"high_income\", \"employment\", \"age\", \"marital_status\"]\n",
    "\n",
    "\n",
    "np.random.seed(1)\n",
    "id3(data,\"high_income\", [\"employment\", \"age\", \"marital_status\"], tree)"
   ]
  },
  {
   "cell_type": "code",
   "execution_count": 81,
   "metadata": {},
   "outputs": [
    {
     "data": {
      "text/plain": [
       "{'number': 1,\n",
       " 'column': 'age',\n",
       " 'median': 37.5,\n",
       " 'left': {'number': 2,\n",
       "  'column': 'employment',\n",
       "  'median': 4.0,\n",
       "  'left': {'number': 3,\n",
       "   'column': 'age',\n",
       "   'median': 22.5,\n",
       "   'left': {'number': 4, 'label': 0},\n",
       "   'right': {'number': 5, 'label': 1}},\n",
       "  'right': {'number': 6, 'label': 1}},\n",
       " 'right': {'number': 7,\n",
       "  'column': 'age',\n",
       "  'median': 55.0,\n",
       "  'left': {'number': 8,\n",
       "   'column': 'age',\n",
       "   'median': 47.5,\n",
       "   'left': {'number': 9, 'label': 0},\n",
       "   'right': {'number': 10, 'label': 1}},\n",
       "  'right': {'number': 11, 'label': 0}}}"
      ]
     },
     "execution_count": 81,
     "metadata": {},
     "output_type": "execute_result"
    }
   ],
   "source": [
    "tree"
   ]
  },
  {
   "attachments": {
    "image.png": {
     "image/png": "[encoded data removed]"
    }
   },
   "cell_type": "markdown",
   "metadata": {},
   "source": [
    "![image.png](attachment:image.png)"
   ]
  },
  {
   "cell_type": "code",
   "execution_count": 84,
   "metadata": {},
   "outputs": [
    {
     "name": "stdout",
     "output_type": "stream",
     "text": [
      "0.7345958637997538\n"
     ]
    }
   ],
   "source": [
    "tree_count = 10\n",
    "\n",
    "bag_proportion = .6\n",
    "\n",
    "predictions = []\n",
    "\n",
    "for i in range(tree_count):\n",
    "    bag = train.sample(frac = bag_proportion, replace = True, random_state = i)\n",
    "    \n",
    "    clf = DecisionTreeClassifier(random_state = 1, min_samples_leaf = 2, splitter = \"random\", max_features= \"auto\")\n",
    "    clf.fit(bag[columns], bag[\"high_income\"])\n",
    "    predictions.append(clf.predict_proba(test[columns])[:,1])\n",
    "    \n",
    "combined = np.sum(predictions, axis = 0)/10\n",
    "rounded = np.round(combined)\n",
    "\n",
    "print(roc_auc_score(test[\"high_income\"], rounded))"
   ]
  },
  {
   "attachments": {
    "image.png": {
     "image/png": "[encoded data removed]"
    }
   },
   "cell_type": "markdown",
   "metadata": {},
   "source": [
    "Using random subsets improved the accuracy over using bagging alone \n",
    "\n",
    "![image.png](attachment:image.png)"
   ]
  },
  {
   "cell_type": "markdown",
   "metadata": {},
   "source": [
    "So far, we've demonstrated the two building blocks of random forests, bagging and random feature subsets. Luckily, we don't have to write code from scratch each time. Scikit-learn has a [RandomForestClassifier](https://scikit-learn.org/stable/modules/generated/sklearn.ensemble.RandomForestClassifier.html) class and a [RandomForestRegressor](https://scikit-learn.org/stable/modules/generated/sklearn.ensemble.RandomForestRegressor.html) class that enable us to train and test random forest models quickly.\n",
    "\n",
    "When we instantiate a RandomForestClassifier, we pass in an n_estimators parameter that indicates how many trees to build. While adding more trees usually improves accuracy, it also increases the overall time the model takes to train.\n",
    "\n",
    "RandomForestClassifier has a similar interface to DecisionTreeClassifier, and we can use the fit() and predict() methods to train and make predictions."
   ]
  },
  {
   "cell_type": "code",
   "execution_count": 86,
   "metadata": {},
   "outputs": [
    {
     "name": "stdout",
     "output_type": "stream",
     "text": [
      "0.7347461391939776\n"
     ]
    }
   ],
   "source": [
    "from sklearn.ensemble import RandomForestClassifier\n",
    "\n",
    "clf = RandomForestClassifier(random_state = 1, min_samples_leaf = 2, n_estimators = 5)\n",
    "clf.fit(train[columns], train[\"high_income\"])\n",
    "predictions = clf.predict(test[columns])\n",
    "print(roc_auc_score(test[\"high_income\"], predictions))"
   ]
  },
  {
   "cell_type": "markdown",
   "metadata": {},
   "source": [
    "Similar to decision trees, we can tweak some of the parameters for random forests, including:\n",
    "\n",
    "* min_samples_leaf\n",
    "* min_samples_split\n",
    "* max_depth\n",
    "* max_leaf_nodes\n",
    "\n",
    "These parameters apply to the individual trees in the model, and change how they are constructed. There are also parameters specific to the random forest that alter its overall construction:\n",
    "\n",
    "* n_estimators\n",
    "* bootstrap - \"Bootstrap aggregation\" is another name for bagging; this parameter indicates whether to turn it on (Defaults to True)"
   ]
  },
  {
   "cell_type": "markdown",
   "metadata": {},
   "source": [
    "[Documentation](https://scikit-learn.org/stable/modules/generated/sklearn.ensemble.RandomForestClassifier.html) for a full list of parameters."
   ]
  },
  {
   "cell_type": "markdown",
   "metadata": {},
   "source": [
    "Tweaking parameters can increase the accuracy of the forest. The easiest tweak is to increase the number of estimators we use. This approach yields diminishing returns -- going from 10 trees to 100 will make a bigger difference than going from 100 to 500, which will make a bigger difference than going from 500 to 1000. The accuracy increase function is logarithmic, so increasing the number of trees beyond a certain number (usually 200) won't help much at all."
   ]
  },
  {
   "cell_type": "code",
   "execution_count": 87,
   "metadata": {},
   "outputs": [
    {
     "name": "stdout",
     "output_type": "stream",
     "text": [
      "0.7379403213124711\n"
     ]
    }
   ],
   "source": [
    "# Increase n_estimators to 150.\n",
    "\n",
    "clf = RandomForestClassifier(n_estimators=150, random_state=1, min_samples_leaf=2)\n",
    "\n",
    "clf.fit(train[columns], train[\"high_income\"])\n",
    "\n",
    "predictions = clf.predict(test[columns])\n",
    "print(roc_auc_score(test[\"high_income\"], predictions))"
   ]
  },
  {
   "cell_type": "markdown",
   "metadata": {},
   "source": [
    "We were able to improve the AUC from 0.735 to 0.738, but the model using 150 trees took much longer to train. While the extra training time is trivial on the data set we're working with right now, understanding this trade-off will help us when we're working with much larger data sets where the extra time could amount to hours or days!\n",
    "\n",
    "One of the major advantages of random forests over single decision trees is that they tend to overfit less. Although each individual decision tree in a random forest varies widely, the average of their predictions is less sensitive to the input data than a single tree is. This is because while one tree can construct an incorrect and overfit model, the average of 100 or more trees will be more likely to hone in on the signal and ignore the noise. The signal will be the same across all of the trees, whereas each tree will hone in on the noise differently. This means that the average will discard the noise and keep the signal."
   ]
  },
  {
   "cell_type": "code",
   "execution_count": 88,
   "metadata": {},
   "outputs": [
    {
     "name": "stdout",
     "output_type": "stream",
     "text": [
      "0.7917047295143252\n",
      "0.7498874343962398\n"
     ]
    }
   ],
   "source": [
    "clf = RandomForestClassifier(n_estimators=150, random_state=1, min_samples_leaf=5)\n",
    "\n",
    "clf.fit(train[columns], train[\"high_income\"])\n",
    "\n",
    "predictions = clf.predict(train[columns])\n",
    "print(roc_auc_score(train[\"high_income\"], predictions))\n",
    "\n",
    "predictions = clf.predict(test[columns])\n",
    "print(roc_auc_score(test[\"high_income\"], predictions))"
   ]
  },
  {
   "cell_type": "code",
   "execution_count": 89,
   "metadata": {},
   "outputs": [
    {
     "name": "stdout",
     "output_type": "stream",
     "text": [
      "0.8192570489534683\n",
      "0.7139325899284541\n"
     ]
    }
   ],
   "source": [
    "clf = DecisionTreeClassifier(random_state=1, min_samples_leaf=5)\n",
    "\n",
    "clf.fit(train[columns], train[\"high_income\"])\n",
    "\n",
    "predictions = clf.predict(train[columns])\n",
    "print(roc_auc_score(train[\"high_income\"], predictions))\n",
    "\n",
    "predictions = clf.predict(test[columns])\n",
    "print(roc_auc_score(test[\"high_income\"], predictions))"
   ]
  },
  {
   "cell_type": "markdown",
   "metadata": {},
   "source": [
    "As we can see, overfitting decreased with a random forest, and accuracy went up overall."
   ]
  },
  {
   "cell_type": "markdown",
   "metadata": {},
   "source": [
    "While the random forest algorithm is incredibly powerful, it isn't applicable to all tasks. \n",
    "\n",
    "# The main strengths of a random forest are:\n",
    "\n",
    "* Very accurate predictions - Random forests achieve near state-of-the-art performance on many machine learning tasks. Along with neural networks and gradient-boosted trees, they're typically one of the top-performing algorithms.\n",
    "* Resistance to overfitting - Due to their construction, random forests are fairly resistant to overfitting. We still need to set and tweak parameters like max_depth though.\n"
   ]
  },
  {
   "cell_type": "markdown",
   "metadata": {},
   "source": [
    "# The main weaknesses of using a random forest are:\n",
    "\n",
    "* They're difficult to interpret - Because we've averaging the results of many trees, it can be hard to figure out why a random forest is making predictions the way it is.\n",
    "* They take longer to create - Making two trees takes twice as long as making one, making three takes three times as long, and so on. Fortunately, we can exploit multicore processors to parallelize tree construction. Scikit allows us to do this through the n_jobs parameter on RandomForestClassifier."
   ]
  },
  {
   "cell_type": "markdown",
   "metadata": {},
   "source": [
    "Given these trade-offs, it makes sense to use random forests in situations where accuracy is of the utmost importance; being able to interpret or explain the decisions the model is making isn't key. In cases where time is of the essence or interpretability is important, a single decision tree may be a better choice."
   ]
  },
  {
   "cell_type": "code",
   "execution_count": null,
   "metadata": {},
   "outputs": [],
   "source": []
  }
 ],
 "metadata": {
  "kernelspec": {
   "display_name": "Python 3",
   "language": "python",
   "name": "python3"
  },
  "language_info": {
   "codemirror_mode": {
    "name": "ipython",
    "version": 3
   },
   "file_extension": ".py",
   "mimetype": "text/x-python",
   "name": "python",
   "nbconvert_exporter": "python",
   "pygments_lexer": "ipython3",
   "version": "3.7.3"
  }
 },
 "nbformat": 4,
 "nbformat_minor": 2
}
